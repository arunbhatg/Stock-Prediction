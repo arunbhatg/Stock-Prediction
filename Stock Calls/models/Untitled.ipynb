{
 "cells": [
  {
   "cell_type": "code",
   "execution_count": 1,
   "id": "0d55f2b3",
   "metadata": {},
   "outputs": [
    {
     "name": "stdout",
     "output_type": "stream",
     "text": [
      "Collecting yfinance\n",
      "  Downloading yfinance-0.2.43-py2.py3-none-any.whl (84 kB)\n",
      "Collecting platformdirs>=2.0.0\n",
      "  Downloading platformdirs-4.2.2-py3-none-any.whl (18 kB)\n",
      "Collecting frozendict>=2.3.4\n",
      "  Downloading frozendict-2.4.4-cp38-cp38-win_amd64.whl (37 kB)\n",
      "Collecting requests>=2.31\n",
      "  Downloading requests-2.32.3-py3-none-any.whl (64 kB)\n",
      "Collecting peewee>=3.16.2\n",
      "  Downloading peewee-3.17.6.tar.gz (3.0 MB)\n",
      "  Installing build dependencies: started\n",
      "  Installing build dependencies: finished with status 'done'\n",
      "  Getting requirements to build wheel: started\n",
      "  Getting requirements to build wheel: finished with status 'done'\n",
      "    Preparing wheel metadata: started\n",
      "    Preparing wheel metadata: finished with status 'done'\n",
      "Collecting pytz>=2022.5\n",
      "  Downloading pytz-2024.1-py2.py3-none-any.whl (505 kB)\n",
      "Requirement already satisfied: numpy>=1.16.5 in c:\\users\\91827\\anaconda3\\lib\\site-packages (from yfinance) (1.20.1)\n",
      "Collecting multitasking>=0.0.7\n",
      "  Downloading multitasking-0.0.11-py3-none-any.whl (8.5 kB)\n",
      "Collecting lxml>=4.9.1\n",
      "  Downloading lxml-5.3.0-cp38-cp38-win_amd64.whl (3.8 MB)\n",
      "Requirement already satisfied: html5lib>=1.1 in c:\\users\\91827\\anaconda3\\lib\\site-packages (from yfinance) (1.1)\n",
      "Collecting pandas>=1.3.0\n",
      "  Downloading pandas-2.0.3-cp38-cp38-win_amd64.whl (10.8 MB)\n",
      "Collecting beautifulsoup4>=4.11.1\n",
      "  Downloading beautifulsoup4-4.12.3-py3-none-any.whl (147 kB)\n",
      "Requirement already satisfied: soupsieve>1.2 in c:\\users\\91827\\anaconda3\\lib\\site-packages (from beautifulsoup4>=4.11.1->yfinance) (2.2.1)\n",
      "Requirement already satisfied: six>=1.9 in c:\\users\\91827\\anaconda3\\lib\\site-packages (from html5lib>=1.1->yfinance) (1.15.0)\n",
      "Requirement already satisfied: webencodings in c:\\users\\91827\\anaconda3\\lib\\site-packages (from html5lib>=1.1->yfinance) (0.5.1)\n",
      "Collecting python-dateutil>=2.8.2\n",
      "  Downloading python_dateutil-2.9.0.post0-py2.py3-none-any.whl (229 kB)\n",
      "Collecting tzdata>=2022.1\n",
      "  Downloading tzdata-2024.1-py2.py3-none-any.whl (345 kB)\n",
      "Collecting numpy>=1.16.5\n",
      "  Downloading numpy-1.24.4-cp38-cp38-win_amd64.whl (14.9 MB)\n",
      "Requirement already satisfied: idna<4,>=2.5 in c:\\users\\91827\\anaconda3\\lib\\site-packages (from requests>=2.31->yfinance) (2.10)\n",
      "Requirement already satisfied: charset-normalizer<4,>=2 in c:\\users\\91827\\anaconda3\\lib\\site-packages (from requests>=2.31->yfinance) (3.2.0)\n",
      "Requirement already satisfied: certifi>=2017.4.17 in c:\\users\\91827\\anaconda3\\lib\\site-packages (from requests>=2.31->yfinance) (2024.7.4)\n",
      "Requirement already satisfied: urllib3<3,>=1.21.1 in c:\\users\\91827\\anaconda3\\lib\\site-packages (from requests>=2.31->yfinance) (1.26.4)\n",
      "Building wheels for collected packages: peewee\n"
     ]
    },
    {
     "name": "stderr",
     "output_type": "stream",
     "text": [
      "ERROR: pip's dependency resolver does not currently take into account all the packages that are installed. This behaviour is the source of the following dependency conflicts.\n",
      "conda-repo-cli 1.0.4 requires pathlib, which is not installed.\n",
      "anaconda-project 0.9.1 requires ruamel-yaml, which is not installed.\n",
      "scipy 1.6.2 requires numpy<1.23.0,>=1.16.5, but you have numpy 1.24.4 which is incompatible.\n"
     ]
    },
    {
     "name": "stdout",
     "output_type": "stream",
     "text": [
      "  Building wheel for peewee (PEP 517): started\n",
      "  Building wheel for peewee (PEP 517): finished with status 'done'\n",
      "  Created wheel for peewee: filename=peewee-3.17.6-py3-none-any.whl size=138938 sha256=f837a03bcbd76486014617cf323d1cfdd3eedad2efe934038b1239cc7d9da2ae\n",
      "  Stored in directory: c:\\users\\91827\\appdata\\local\\pip\\cache\\wheels\\3a\\cd\\3a\\abf2568bf80fd95a4be8f7954d9e4eefc190c1233516a0a029\n",
      "Successfully built peewee\n",
      "Installing collected packages: tzdata, pytz, python-dateutil, numpy, requests, platformdirs, peewee, pandas, multitasking, lxml, frozendict, beautifulsoup4, yfinance\n",
      "  Attempting uninstall: pytz\n",
      "    Found existing installation: pytz 2021.1\n",
      "    Uninstalling pytz-2021.1:\n",
      "      Successfully uninstalled pytz-2021.1\n",
      "  Attempting uninstall: python-dateutil\n",
      "    Found existing installation: python-dateutil 2.8.1\n",
      "    Uninstalling python-dateutil-2.8.1:\n",
      "      Successfully uninstalled python-dateutil-2.8.1\n",
      "  Attempting uninstall: numpy\n",
      "    Found existing installation: numpy 1.20.1\n",
      "    Uninstalling numpy-1.20.1:\n",
      "      Successfully uninstalled numpy-1.20.1\n",
      "  Attempting uninstall: requests\n",
      "    Found existing installation: requests 2.25.1\n",
      "    Uninstalling requests-2.25.1:\n",
      "      Successfully uninstalled requests-2.25.1\n",
      "  Attempting uninstall: pandas\n",
      "    Found existing installation: pandas 1.2.4\n",
      "    Uninstalling pandas-1.2.4:\n",
      "      Successfully uninstalled pandas-1.2.4\n",
      "  Attempting uninstall: lxml\n",
      "    Found existing installation: lxml 4.6.3\n",
      "    Uninstalling lxml-4.6.3:\n",
      "      Successfully uninstalled lxml-4.6.3\n",
      "  Attempting uninstall: beautifulsoup4\n",
      "    Found existing installation: beautifulsoup4 4.9.3\n",
      "    Uninstalling beautifulsoup4-4.9.3:\n",
      "      Successfully uninstalled beautifulsoup4-4.9.3\n",
      "Successfully installed beautifulsoup4-4.12.3 frozendict-2.4.4 lxml-5.3.0 multitasking-0.0.11 numpy-1.24.4 pandas-2.0.3 peewee-3.17.6 platformdirs-4.2.2 python-dateutil-2.9.0.post0 pytz-2024.1 requests-2.32.3 tzdata-2024.1 yfinance-0.2.43\n"
     ]
    }
   ],
   "source": [
    "!pip install yfinance"
   ]
  },
  {
   "cell_type": "code",
   "execution_count": null,
   "id": "a58cf914",
   "metadata": {},
   "outputs": [],
   "source": []
  }
 ],
 "metadata": {
  "kernelspec": {
   "display_name": "Python 3",
   "language": "python",
   "name": "python3"
  },
  "language_info": {
   "codemirror_mode": {
    "name": "ipython",
    "version": 3
   },
   "file_extension": ".py",
   "mimetype": "text/x-python",
   "name": "python",
   "nbconvert_exporter": "python",
   "pygments_lexer": "ipython3",
   "version": "3.8.8"
  }
 },
 "nbformat": 4,
 "nbformat_minor": 5
}
